{
  "nbformat": 4,
  "nbformat_minor": 0,
  "metadata": {
    "colab": {
      "name": "DeepDecompiler.ipynb",
      "provenance": [],
      "include_colab_link": true
    },
    "kernelspec": {
      "name": "python3",
      "display_name": "Python 3"
    }
  },
  "cells": [
    {
      "cell_type": "markdown",
      "metadata": {
        "id": "view-in-github",
        "colab_type": "text"
      },
      "source": [
        "<a href=\"https://colab.research.google.com/github/rtldr/DeepDecompiler/blob/master/DeepDecompiler.ipynb\" target=\"_parent\"><img src=\"https://colab.research.google.com/assets/colab-badge.svg\" alt=\"Open In Colab\"/></a>"
      ]
    },
    {
      "cell_type": "code",
      "metadata": {
        "id": "fctHAUUGgR2k",
        "outputId": "cd2bbea2-ea3c-4916-ceda-76504df7728b",
        "colab": {
          "base_uri": "https://localhost:8080/"
        }
      },
      "source": [
        "from google.colab import drive\n",
        "drive.mount('/content/drive')"
      ],
      "execution_count": 9,
      "outputs": [
        {
          "output_type": "stream",
          "text": [
            "Drive already mounted at /content/drive; to attempt to forcibly remount, call drive.mount(\"/content/drive\", force_remount=True).\n"
          ],
          "name": "stdout"
        }
      ]
    },
    {
      "cell_type": "code",
      "metadata": {
        "id": "o7Ne6O6V01Jn",
        "outputId": "df94d29b-0b7d-4168-84e6-f90bad41e7bc",
        "colab": {
          "base_uri": "https://localhost:8080/"
        }
      },
      "source": [
        "!pip3 install pyelftools"
      ],
      "execution_count": 12,
      "outputs": [
        {
          "output_type": "stream",
          "text": [
            "Requirement already satisfied: pyelftools in /usr/local/lib/python3.6/dist-packages (0.27)\n"
          ],
          "name": "stdout"
        }
      ]
    },
    {
      "cell_type": "code",
      "metadata": {
        "id": "XcPTErLK0h-t"
      },
      "source": [
        "DATA_FOLDER_PATH = '/content/drive/MyDrive/colab_files/final_project/data'\n",
        "DATA_V2_FOLDER_PATH = '/content/drive/MyDrive/colab_files/final_project/data_v2'"
      ],
      "execution_count": 10,
      "outputs": []
    },
    {
      "cell_type": "code",
      "metadata": {
        "id": "1ioeWLhC0iUE",
        "outputId": "27457a35-0eac-43b4-da1c-30611a45dca5",
        "colab": {
          "base_uri": "https://localhost:8080/"
        }
      },
      "source": [
        "# Simple asm tokenizer - TODO maybe look into better ways of doing this\n",
        "from elftools.elf.elffile import ELFFile\n",
        "\n",
        "NUM_TOKENS = 2**8 + 2\n",
        "EOF = 256\n",
        "PAD = 257\n",
        "\n",
        "def tokenize_asm_file(filename):\n",
        "    with open(filename, \"rb\") as f:\n",
        "        print('here1')\n",
        "        elf_file = ELFFile(f)\n",
        "        print('here2')\n",
        "        for section in elf_file.iter_sections():\n",
        "            print('here3')\n",
        "            if section.name == '.text':\n",
        "                bytes_list = list(section.data())\n",
        "    # Add EOF\n",
        "    bytes_list.append(EOF)\n",
        "    return bytes_list\n",
        "    \n",
        "if __name__ == \"__main__\":\n",
        "    m = 0\n",
        "    count = 0\n",
        "    for i in range (1024):\n",
        "        print(i)\n",
        "        tokenized = tokenize_asm_file(DATA_V2_FOLDER_PATH + \"/asm/\" + str(i))\n",
        "        if len(tokenized) < 100:\n",
        "            count += 1\n",
        "            m = max(m, len(tokenized))\n",
        "    print(m)\n",
        "    print(count)\n"
      ],
      "execution_count": null,
      "outputs": [
        {
          "output_type": "stream",
          "text": [
            "0\n"
          ],
          "name": "stdout"
        }
      ]
    }
  ]
}