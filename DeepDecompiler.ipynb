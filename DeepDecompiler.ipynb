{
  "nbformat": 4,
  "nbformat_minor": 0,
  "metadata": {
    "colab": {
      "name": "DeepDecompiler.ipynb",
      "provenance": [],
      "machine_shape": "hm",
      "include_colab_link": true
    },
    "kernelspec": {
      "name": "python3",
      "display_name": "Python 3"
    },
    "accelerator": "GPU"
  },
  "cells": [
    {
      "cell_type": "markdown",
      "metadata": {
        "id": "view-in-github",
        "colab_type": "text"
      },
      "source": [
        "<a href=\"https://colab.research.google.com/github/rtldr/DeepDecompiler/blob/master/DeepDecompiler.ipynb\" target=\"_parent\"><img src=\"https://colab.research.google.com/assets/colab-badge.svg\" alt=\"Open In Colab\"/></a>"
      ]
    },
    {
      "cell_type": "code",
      "metadata": {
        "id": "fctHAUUGgR2k"
      },
      "source": [
        "from google.colab import drive\n",
        "drive.mount('/content/drive')"
      ],
      "execution_count": null,
      "outputs": []
    },
    {
      "cell_type": "code",
      "metadata": {
        "colab": {
          "base_uri": "https://localhost:8080/"
        },
        "id": "o7Ne6O6V01Jn",
        "outputId": "83af478e-0ae4-4827-d88f-ce5975dda01f"
      },
      "source": [
        "!pip3 install pyelftools"
      ],
      "execution_count": 2,
      "outputs": [
        {
          "output_type": "stream",
          "text": [
            "Collecting pyelftools\n",
            "\u001b[?25l  Downloading https://files.pythonhosted.org/packages/6f/50/3d7729d64bb23393aa4c166af250a6e6f9def40c90bf0e9af3c5ad25b6f7/pyelftools-0.27-py2.py3-none-any.whl (151kB)\n",
            "\r\u001b[K     |██▏                             | 10kB 18.6MB/s eta 0:00:01\r\u001b[K     |████▎                           | 20kB 22.3MB/s eta 0:00:01\r\u001b[K     |██████▌                         | 30kB 25.8MB/s eta 0:00:01\r\u001b[K     |████████▋                       | 40kB 21.9MB/s eta 0:00:01\r\u001b[K     |██████████▉                     | 51kB 17.4MB/s eta 0:00:01\r\u001b[K     |█████████████                   | 61kB 19.1MB/s eta 0:00:01\r\u001b[K     |███████████████▏                | 71kB 12.7MB/s eta 0:00:01\r\u001b[K     |█████████████████▎              | 81kB 13.5MB/s eta 0:00:01\r\u001b[K     |███████████████████▌            | 92kB 13.1MB/s eta 0:00:01\r\u001b[K     |█████████████████████▋          | 102kB 12.4MB/s eta 0:00:01\r\u001b[K     |███████████████████████▊        | 112kB 12.4MB/s eta 0:00:01\r\u001b[K     |██████████████████████████      | 122kB 12.4MB/s eta 0:00:01\r\u001b[K     |████████████████████████████    | 133kB 12.4MB/s eta 0:00:01\r\u001b[K     |██████████████████████████████▎ | 143kB 12.4MB/s eta 0:00:01\r\u001b[K     |████████████████████████████████| 153kB 12.4MB/s \n",
            "\u001b[?25hInstalling collected packages: pyelftools\n",
            "Successfully installed pyelftools-0.27\n"
          ],
          "name": "stdout"
        }
      ]
    },
    {
      "cell_type": "code",
      "metadata": {
        "id": "XcPTErLK0h-t"
      },
      "source": [
        "# DATA_FOLDER_PATH = 'drive/MyDrive/data'\n",
        "# Upload the tar.gz data files to the VM and tar -xzvf them\n",
        "DATA_V2_FOLDER_PATH = 'data_v2'\n",
        "DATA_V3_FOLDER_PATH = 'data_v3'\n"
      ],
      "execution_count": 4,
      "outputs": []
    },
    {
      "cell_type": "code",
      "metadata": {
        "colab": {
          "base_uri": "https://localhost:8080/"
        },
        "id": "1ioeWLhC0iUE",
        "outputId": "debdb178-c46f-4173-dfde-48a77107b6a7"
      },
      "source": [
        "# Simple asm tokenizer - TODO maybe look into better ways of doing this\n",
        "from elftools.elf.elffile import ELFFile\n",
        "\n",
        "NUM_TOKENS = 2**8 + 2\n",
        "EOF = 256\n",
        "PAD = 257\n",
        "\n",
        "def tokenize_asm_file(filename):\n",
        "    with open(filename, \"rb\") as f:\n",
        "        elf_file = ELFFile(f)\n",
        "        for section in elf_file.iter_sections():\n",
        "            if section.name == '.text':\n",
        "                bytes_list = list(section.data())\n",
        "    # Add EOF\n",
        "    bytes_list.append(EOF)\n",
        "    return bytes_list\n",
        "    \n",
        "if __name__ == \"__main__\":\n",
        "    m = 0\n",
        "    count = 0\n",
        "    for i in range (1024):\n",
        "        tokenized = tokenize_asm_file(DATA_V2_FOLDER_PATH + \"/asm/\" + str(i))\n",
        "        if len(tokenized) < 100:\n",
        "            count += 1\n",
        "            m = max(m, len(tokenized))\n",
        "    print(m)\n",
        "    print(count)\n"
      ],
      "execution_count": 6,
      "outputs": [
        {
          "output_type": "stream",
          "text": [
            "99\n",
            "756\n"
          ],
          "name": "stdout"
        }
      ]
    },
    {
      "cell_type": "code",
      "metadata": {
        "colab": {
          "base_uri": "https://localhost:8080/"
        },
        "id": "zcw3fuGg8Pyw",
        "outputId": "9266475c-0aac-4f9e-e4de-1df68b3c0dc5"
      },
      "source": [
        "# C Tokenizer\n",
        "\n",
        "from pycparser.c_lexer import CLexer\n",
        "\n",
        "# C token space\n",
        "# 0 - 99 tokens generated by CLexer\n",
        "# 100 - 227 printable ASCII characters (100 -> Ascii 32) TODO - switch to byte pair encodings\n",
        "# 228 - END_ID_CONST\n",
        "# 229 - END_LITERAL\n",
        "# 230 - EOF\n",
        "# 231 - SOS \n",
        "EOF = 100\n",
        "SOS = 101\n",
        "PAD = 102\n",
        "NUM_TOKENS = 103\n",
        "# EOF = 230\n",
        "# SOS = 231\n",
        "# NUM_TOKENS = 232\n",
        "\n",
        "class CTokenizer():\n",
        "    def __init__(self):\n",
        "        self.lexer = CLexer(self._on_error, self._on_left_brace, self._on_left_brace, self._type_lookup_func)\n",
        "        self.lexer.build(optimize=True, lextab='pycparser.lextab', outputdir='')\n",
        "        self.semicolon_token = self.lexer.tokens.index('SEMI')\n",
        "\n",
        "    # Lexer Functions\n",
        "    def _on_error(self, msg, line, column):\n",
        "        print(\"Error tokenizing:\", msg)\n",
        "\n",
        "    def _on_left_brace(self):\n",
        "        pass\n",
        "\n",
        "    def _on_right_brace(self):\n",
        "        pass\n",
        "\n",
        "    def _type_lookup_func(self, name):\n",
        "        return False\n",
        "\n",
        "    def tokenize_file(self, filename, include_SOS=False):\n",
        "        with open(filename) as f:\n",
        "            # Skip first line of file\n",
        "            f.readline()\n",
        "            text = f.read()\n",
        "        tokens = []\n",
        "        self.lexer.input(text)\n",
        "        t = self.lexer.token()\n",
        "        while t is not None:\n",
        "            tokens += self._process_lexer_token(t)\n",
        "            t = self.lexer.token()\n",
        "        tokens.append(EOF)\n",
        "\n",
        "        # Strip header info by removing everything before first two semicolons\n",
        "        tokens = tokens[tokens.index(self.semicolon_token) + 1:]\n",
        "        tokens = tokens[tokens.index(self.semicolon_token) + 1:]\n",
        "\n",
        "        return [SOS] + tokens if include_SOS else tokens \n",
        "    \n",
        "    # Required because of BaseTokenizer\n",
        "    def tokenizer(text):\n",
        "      # Assume text is the actual C code\n",
        "      tokens = []\n",
        "      self.lexer.input(text)\n",
        "      t = self.lexer.token()\n",
        "      while t is not None:\n",
        "          tokens += self._process_lexer_token(t)\n",
        "          t = self.lexer.token()\n",
        "      tokens.append(EOF)\n",
        "\n",
        "      # Strip header info by removing everything before first two semicolons\n",
        "      tokens = tokens[tokens.index(self.semicolon_token) + 1:]\n",
        "      tokens = tokens[tokens.index(self.semicolon_token) + 1:]\n",
        "      output = [SOS] + tokens if include_SOS else tokens\n",
        "      return tokens_to_string(output).split()\n",
        "\n",
        "    def add_special_cases(toks):\n",
        "      pass\n",
        "\n",
        "    def _process_lexer_token(self, ltoken):\n",
        "        ltype = ltoken.type\n",
        "        token = [self.lexer.tokens.index(ltype)]\n",
        "\n",
        "        # if \"LITERAL\" in ltype:\n",
        "        #     value = ltoken.value[1:-1]\n",
        "        #     for char in value:\n",
        "        #         token.append(ord(char) + 100 - 32)\n",
        "        #     token.append(229)\n",
        "        # elif (\"CONST\" in ltype and ltype != \"CONST\") or ltype == \"ID\":\n",
        "        #     value = ltoken.value\n",
        "        #     for char in value:\n",
        "        #         token.append(ord(char) + 100 - 32)\n",
        "        #     token.append(228)\n",
        "\n",
        "        return token\n",
        "\n",
        "    def tokens_to_string(self, tokens):\n",
        "        result = \"\"\n",
        "        for token in tokens:\n",
        "            if 0 <= token < 100:\n",
        "                result += \" \" + self.lexer.tokens[token]\n",
        "            elif 100 <= token < 228:\n",
        "                result += chr(token - 100 + 32)\n",
        "            elif token == 228:\n",
        "                result += \"END_ID_CONST\"\n",
        "            elif token == 229:\n",
        "                result += \"END_STR_LITERAL\"\n",
        "            elif token == EOF:\n",
        "                result += \" EOF\"\n",
        "            else:\n",
        "                result += \" UNKNOWN_TOKEN\"\n",
        "\n",
        "        return result[1:]\n",
        "        \n",
        "    def tokens_to_C_string(self, tokens):\n",
        "        C_dict = {\n",
        "            \"LPAREN\" : '(',\n",
        "            \"RPAREN\" : ')',\n",
        "            # Operators\n",
        "            \"PLUS\" : '+',\n",
        "            \"MINUS\" : '-',\n",
        "            \"TIMES\" : '*',\n",
        "            \"DIVIDE\" : '/',\n",
        "            \"MODULO\" : '%',\n",
        "            \"OR\" : '|',\n",
        "            \"AND\" : '&',\n",
        "            \"NOT\" : '~',\n",
        "            \"XOR\" : '^',\n",
        "            \"LSHIFT\" : '<<',\n",
        "            \"RSHIFT\" : '>>',\n",
        "            \"LOR\" : '||',\n",
        "            \"LAND\" : '&&',\n",
        "            \"LNOT\" : '!',\n",
        "            \"LT\" : '<',\n",
        "            \"GT\" : '>',\n",
        "            \"LE\" : '<=',\n",
        "            \"GE\" : '>=',\n",
        "            \"EQ\" : '==',\n",
        "            \"NE\" : '!=', \n",
        "            # Assignment Operators\n",
        "            \"EQUALS\" : '=',\n",
        "            \"TIMESEQUAL\" : '*=',\n",
        "            \"DIVEQUAL\" : '=',\n",
        "            \"MODEQUAL\" : '=',\n",
        "            \"PLUSEQUAL\" : '+=',\n",
        "            \"MINUSEQUAL\" : '-=',\n",
        "            \"LSHIFTEQUAL\" : '<<=',\n",
        "            \"RSHIFTEQUAL\" : '>>=',\n",
        "            \"ANDEQUAL\" : '&=',\n",
        "            \"OREQUAL\" : '|=',\n",
        "            \"XOREQUAL\" : '^=',\n",
        "            # Increment/decrement\n",
        "            \"PLUSPLUS\" : '++',\n",
        "            \"MINUSMINUS\" : '--',\n",
        "            # ->\n",
        "            \"ARROW\" : '->',\n",
        "            # ?\n",
        "            \"TERNARY\" : '?',\n",
        "            # Delimeters\n",
        "            \"LPAREN\" : '(',\n",
        "            \"RPAREN\" : ')',\n",
        "            \"LBRACKET\" : '[',\n",
        "            \"RBRACKET\" : ']',\n",
        "            \"BRACE\" : '{',\n",
        "            \"RBRACE\" : '}',\n",
        "            \"COMMA\" : ',',\n",
        "            \"PERIOD\" : '.',\n",
        "            \"SEMI\" : ';',\n",
        "            \"COLON\" : ':',\n",
        "            \"ELLIPSIS\" : '...',\n",
        "            \n",
        "        }\n",
        "        result = \"\"\n",
        "        for_semi = 0\n",
        "        indent = 0; \n",
        "        tab = \"    \"\n",
        "        for token in tokens:\n",
        "            if 0 <= token < 100:\n",
        "                token_str = self.lexer.tokens[token]\n",
        "                if token_str == \"LBRACE\":\n",
        "                    result += \"\\n\" + indent*tab\n",
        "                    indent += 1\n",
        "                    result += \"{\\n\" + indent*tab\n",
        "                elif token_str == \"RBRACE\":\n",
        "                    indent -= 1\n",
        "                    result += \"\\n\" + indent*tab\n",
        "                    result += \"}\\n\" + indent*tab\n",
        "                elif token_str == \"FOR\":\n",
        "                    result += \"for\"\n",
        "                    for_semi = 2\n",
        "                elif token_str == \"SEMI\":\n",
        "                    result += \";\"\n",
        "                    if for_semi > 0:\n",
        "                        for_semi -= 1\n",
        "                    else: \n",
        "                        result += \"\\n\" + indent*tab\n",
        "                elif token_str in C_dict: \n",
        "                    result += C_dict[token_str]\n",
        "                else: \n",
        "                    result += \" \" + self.lexer.tokens[token].lower()\n",
        "            elif 100 <= token < 228:\n",
        "                 result += chr(token - 100 + 32)\n",
        "            elif token == 228:\n",
        "                result += \"end_id_const\"\n",
        "            elif token == 229:\n",
        "                result += \"end_str_literal\"\n",
        "            elif token == EOF:\n",
        "                result += \" eof\"\n",
        "            else:\n",
        "                result += \" unknown_token\"\n",
        "\n",
        "        return result[1:]\n",
        "\n",
        "\n",
        "if __name__ == \"__main__\":\n",
        "    tkn = CTokenizer()\n",
        "    tokens = tkn.tokenize_file(DATA_V2_FOLDER_PATH + \"/c/0.c\")\n",
        "    print(tkn.tokens_to_string(tokens))\n",
        "    print(tkn.tokens_to_C_string(tokens))\n"
      ],
      "execution_count": 8,
      "outputs": [
        {
          "output_type": "stream",
          "text": [
            "STATIC ID ID LPAREN VOID RPAREN LBRACE ID ID EQUALS INT_CONST_HEX SEMI RETURN ID SEMI RBRACE \n",
            "static id id( void)\n",
            "{\n",
            "     id id= int_const_hex;\n",
            "     return id;\n",
            "    \n",
            "}\n",
            " \n"
          ],
          "name": "stdout"
        }
      ]
    },
    {
      "cell_type": "code",
      "metadata": {
        "id": "cTmr76prHd0-"
      },
      "source": [
        "f = open('train_c_30000.csv', 'a')\n",
        "for i in range (30000):\n",
        "  tkn = CTokenizer()\n",
        "  tokens = tkn.tokenize_file(DATA_V2_FOLDER_PATH + \"/c/\" + str(i) + \".c\")\n",
        "  line = str.lower(tkn.tokens_to_string(tokens)) + '\\n'\n",
        "  f.write(line)\n",
        "f.close()"
      ],
      "execution_count": 10,
      "outputs": []
    },
    {
      "cell_type": "code",
      "metadata": {
        "id": "pxOR1BLlD0Es"
      },
      "source": [
        "f = open('train_asm_30000.csv', 'a')\n",
        "for i in range (30000):\n",
        "  tokens = tokenize_asm_file(DATA_V2_FOLDER_PATH + \"/asm/\" + str(i))\n",
        "  str_tokens = [str(j) for j in tokens]\n",
        "  line = ' '\n",
        "  line = line.join(str_tokens) + '\\n'\n",
        "  f.write(line)\n",
        "f.close()"
      ],
      "execution_count": 72,
      "outputs": []
    },
    {
      "cell_type": "code",
      "metadata": {
        "id": "fO9B3jKlECRV"
      },
      "source": [
        "! [ -e /content ] && pip install -Uqq fastai\n",
        "from fastai import *\n",
        "from fastai.text import *"
      ],
      "execution_count": 44,
      "outputs": []
    },
    {
      "cell_type": "code",
      "metadata": {
        "id": "FW0kAsXlECt5"
      },
      "source": [
        "# # Create C data loader\n",
        "# c_tokenizer = CTokenizer()\n",
        "# train_tokens = []\n",
        "# train_labels = []\n",
        "# TRAIN_NUM = 1000\n",
        "# for i in range(TRAIN_NUM):\n",
        "#   c_tokens_int = c_tokenizer.tokenize_file(DATA_V2_FOLDER_PATH + '/c/' + str(i) + '.c')\n",
        "#   c_tokens_str = [str(j) for j in c_tokens_int]\n",
        "#   train_tokens.append(c_tokens_str)\n",
        "#   train_labels.append(True)\n",
        "\n",
        "# VAL_NUM = 300\n",
        "# val_tokens = []\n",
        "# val_labels = []\n",
        "# for i in range(TRAIN_NUM, TRAIN_NUM + VAL_NUM):\n",
        "#   c_tokens_int = c_tokenizer.tokenize_file(DATA_V2_FOLDER_PATH + '/c/' + str(i) + '.c')\n",
        "#   c_tokens_str = [str(j) for j in c_tokens_int]\n",
        "#   val_tokens.append(c_tokens_str)\n",
        "#   val_labels.append(True)\n",
        "\n",
        "# tdb = TextDataBunch.from_tokens('./', train_tokens, train_labels, val_tokens, val_labels)\n",
        "\n",
        "# class CDataset(Dataset):\n",
        "#   def __init__(self, start_index, stop_index):\n",
        "#     c_tokenizer = CTokenizer()\n",
        "#     self.tokens = []\n",
        "#     vocab_len_upper_bound = 0\n",
        "#     for i in range(start_index, stop_index):\n",
        "#       tokens.append(c_tokenizer.tokenize_file(DATA_V2_FOLDER_PATH + '/c/' + str(i) + '.c'))\n",
        "#       c_tokens_str = [str(j) for j in c_tokens_int]\n",
        "#       self.tokens.append(c_tokens_str)\n",
        "#       vocab_len_upper_bound += len(c_tokens_str)\n",
        "#     self.vocab = Vocab.create(self.tokens, vocab_len_upper_bound, 1)\n",
        "\n",
        "#   def __getitem__(self, index):\n",
        "#     return self.tokens[index]\n",
        "\n",
        "#   def __len__(self):\n",
        "#     return len(self.tokens)\n",
        "\n",
        "# train_dataset = CDataset(0, 1000)\n",
        "# train_loader = LMDataLoader(dataset=train_dataset)\n",
        "# val_dataset = CDataset(1000, 1500)\n",
        "# val_loader = LMDataLoader(dataset=val_dataset)\n",
        "\n",
        "# data_lm = TextLMDataBunch(train_loader, val_loader)\n",
        "\n",
        "\n",
        "# Use ASM numbers as tokens for the model\n",
        "# Use C numbers as tokens for the model\n",
        "\n",
        "# Model thinks str(numbers) are actual words.\n",
        "\n",
        "# Model trains on C str(numbers), spits out a C str(number). We convert all these str(numbers) to C code \n",
        "# strings to see what the model is spitting out\n"
      ],
      "execution_count": null,
      "outputs": []
    },
    {
      "cell_type": "code",
      "metadata": {
        "colab": {
          "base_uri": "https://localhost:8080/",
          "height": 54
        },
        "id": "dR_yxmRVsGBP",
        "outputId": "3c459327-38c9-4d6c-d3ac-4e7aff569357"
      },
      "source": [
        "data_lm = TextLMDataBunch.from_csv('.', 'train_asm_30000.csv', text_cols=0)"
      ],
      "execution_count": 73,
      "outputs": [
        {
          "output_type": "display_data",
          "data": {
            "text/html": [
              ""
            ],
            "text/plain": [
              "<IPython.core.display.HTML object>"
            ]
          },
          "metadata": {
            "tags": []
          }
        },
        {
          "output_type": "stream",
          "text": [
            "/usr/local/lib/python3.6/dist-packages/fastai/core.py:302: VisibleDeprecationWarning: Creating an ndarray from ragged nested sequences (which is a list-or-tuple of lists-or-tuples-or ndarrays with different lengths or shapes) is deprecated. If you meant to do this, you must specify 'dtype=object' when creating the ndarray\n"
          ],
          "name": "stderr"
        },
        {
          "output_type": "display_data",
          "data": {
            "text/html": [
              ""
            ],
            "text/plain": [
              "<IPython.core.display.HTML object>"
            ]
          },
          "metadata": {
            "tags": []
          }
        }
      ]
    },
    {
      "cell_type": "code",
      "metadata": {
        "id": "JV-UixHKS3G8"
      },
      "source": [
        "# def tdb_item_to_C_code(item):\n",
        "#   int_arr = [int(i) for i in item]\n",
        "#   return c_tokenizer.tokens_to_C_string(int_arr)\n",
        "\n",
        "# item_idx = 4\n",
        "# code = tdb_item_to_C_code(data_lm.train_ds[item_idx])\n",
        "# print(code)\n",
        "# data_lm"
      ],
      "execution_count": null,
      "outputs": []
    },
    {
      "cell_type": "code",
      "metadata": {
        "id": "mW36wjFJLa4s"
      },
      "source": [
        "data_lm.show_batch()"
      ],
      "execution_count": null,
      "outputs": []
    },
    {
      "cell_type": "code",
      "metadata": {
        "colab": {
          "base_uri": "https://localhost:8080/",
          "height": 35
        },
        "id": "twruS-MuLdzl",
        "outputId": "c3c9bb39-3382-4dd9-8bc3-a29974fdb574"
      },
      "source": [
        "learn_lm = language_model_learner(data_lm, AWD_LSTM, drop_mult=1.2, pretrained=False)\n",
        "learn_lm.predict('equals', n_words=10)"
      ],
      "execution_count": 81,
      "outputs": [
        {
          "output_type": "execute_result",
          "data": {
            "application/vnd.google.colaboratory.intrinsic+json": {
              "type": "string"
            },
            "text/plain": [
              "'equals 244 186 254 196 7 30 248 244 85 233'"
            ]
          },
          "metadata": {
            "tags": []
          },
          "execution_count": 81
        }
      ]
    },
    {
      "cell_type": "code",
      "metadata": {
        "colab": {
          "base_uri": "https://localhost:8080/",
          "height": 112
        },
        "id": "sNWd4-ACMdAJ",
        "outputId": "e27b8a75-baad-45e0-cdcb-022c40785a9c"
      },
      "source": [
        "learn_lm.lr_find()"
      ],
      "execution_count": 82,
      "outputs": [
        {
          "output_type": "display_data",
          "data": {
            "text/html": [
              "\n",
              "    <div>\n",
              "        <style>\n",
              "            /* Turns off some styling */\n",
              "            progress {\n",
              "                /* gets rid of default border in Firefox and Opera. */\n",
              "                border: none;\n",
              "                /* Needs to be in here for Safari polyfill so background images work as expected. */\n",
              "                background-size: auto;\n",
              "            }\n",
              "            .progress-bar-interrupted, .progress-bar-interrupted::-webkit-progress-bar {\n",
              "                background: #F44336;\n",
              "            }\n",
              "        </style>\n",
              "      <progress value='0' class='' max='1' style='width:300px; height:20px; vertical-align: middle;'></progress>\n",
              "      0.00% [0/1 00:00<00:00]\n",
              "    </div>\n",
              "    \n",
              "<table border=\"1\" class=\"dataframe\">\n",
              "  <thead>\n",
              "    <tr style=\"text-align: left;\">\n",
              "      <th>epoch</th>\n",
              "      <th>train_loss</th>\n",
              "      <th>valid_loss</th>\n",
              "      <th>accuracy</th>\n",
              "      <th>time</th>\n",
              "    </tr>\n",
              "  </thead>\n",
              "  <tbody>\n",
              "  </tbody>\n",
              "</table><p>\n",
              "\n",
              "    <div>\n",
              "        <style>\n",
              "            /* Turns off some styling */\n",
              "            progress {\n",
              "                /* gets rid of default border in Firefox and Opera. */\n",
              "                border: none;\n",
              "                /* Needs to be in here for Safari polyfill so background images work as expected. */\n",
              "                background-size: auto;\n",
              "            }\n",
              "            .progress-bar-interrupted, .progress-bar-interrupted::-webkit-progress-bar {\n",
              "                background: #F44336;\n",
              "            }\n",
              "        </style>\n",
              "      <progress value='99' class='' max='538' style='width:300px; height:20px; vertical-align: middle;'></progress>\n",
              "      18.40% [99/538 00:06<00:30 18.1607]\n",
              "    </div>\n",
              "    "
            ],
            "text/plain": [
              "<IPython.core.display.HTML object>"
            ]
          },
          "metadata": {
            "tags": []
          }
        },
        {
          "output_type": "stream",
          "text": [
            "LR Finder is complete, type {learner_name}.recorder.plot() to see the graph.\n"
          ],
          "name": "stdout"
        }
      ]
    },
    {
      "cell_type": "code",
      "metadata": {
        "colab": {
          "base_uri": "https://localhost:8080/",
          "height": 279
        },
        "id": "3blBxxTlMo3y",
        "outputId": "0a684cc2-4a1f-410d-b36c-0e34beb0eda3"
      },
      "source": [
        "learn_lm.recorder.plot()"
      ],
      "execution_count": 83,
      "outputs": [
        {
          "output_type": "display_data",
          "data": {
            "image/png": "[encoded data removed]",
            "text/plain": [
              "<Figure size 432x288 with 1 Axes>"
            ]
          },
          "metadata": {
            "tags": [],
            "needs_background": "light"
          }
        }
      ]
    },
    {
      "cell_type": "code",
      "metadata": {
        "id": "5KqYlgQ7M13C"
      },
      "source": [
        "\n",
        "lr = 1e-02\n"
      ],
      "execution_count": 89,
      "outputs": []
    },
    {
      "cell_type": "code",
      "metadata": {
        "colab": {
          "base_uri": "https://localhost:8080/",
          "height": 80
        },
        "id": "h4AUayfoNBbe",
        "outputId": "aac5c615-d74e-477e-8497-40de1c7b3a8e"
      },
      "source": [
        "learn_lm.fit_one_cycle(1, lr, moms=(0.8,0.7))"
      ],
      "execution_count": 90,
      "outputs": [
        {
          "output_type": "display_data",
          "data": {
            "text/html": [
              "<table border=\"1\" class=\"dataframe\">\n",
              "  <thead>\n",
              "    <tr style=\"text-align: left;\">\n",
              "      <th>epoch</th>\n",
              "      <th>train_loss</th>\n",
              "      <th>valid_loss</th>\n",
              "      <th>accuracy</th>\n",
              "      <th>time</th>\n",
              "    </tr>\n",
              "  </thead>\n",
              "  <tbody>\n",
              "    <tr>\n",
              "      <td>0</td>\n",
              "      <td>4.291428</td>\n",
              "      <td>4.199733</td>\n",
              "      <td>0.114286</td>\n",
              "      <td>00:36</td>\n",
              "    </tr>\n",
              "  </tbody>\n",
              "</table>"
            ],
            "text/plain": [
              "<IPython.core.display.HTML object>"
            ]
          },
          "metadata": {
            "tags": []
          }
        }
      ]
    },
    {
      "cell_type": "code",
      "metadata": {
        "id": "cQfK_7sBNkbU"
      },
      "source": [
        "learn_lm.unfreeze()"
      ],
      "execution_count": 91,
      "outputs": []
    },
    {
      "cell_type": "code",
      "metadata": {
        "colab": {
          "base_uri": "https://localhost:8080/",
          "height": 359
        },
        "id": "4YM3GGGANlT_",
        "outputId": "99a74ba1-529e-4692-e473-52aa83b85960"
      },
      "source": [
        "learn_lm.fit(10, lr)"
      ],
      "execution_count": 92,
      "outputs": [
        {
          "output_type": "display_data",
          "data": {
            "text/html": [
              "<table border=\"1\" class=\"dataframe\">\n",
              "  <thead>\n",
              "    <tr style=\"text-align: left;\">\n",
              "      <th>epoch</th>\n",
              "      <th>train_loss</th>\n",
              "      <th>valid_loss</th>\n",
              "      <th>accuracy</th>\n",
              "      <th>time</th>\n",
              "    </tr>\n",
              "  </thead>\n",
              "  <tbody>\n",
              "    <tr>\n",
              "      <td>0</td>\n",
              "      <td>2.474190</td>\n",
              "      <td>1.323330</td>\n",
              "      <td>0.657143</td>\n",
              "      <td>00:38</td>\n",
              "    </tr>\n",
              "    <tr>\n",
              "      <td>1</td>\n",
              "      <td>2.164698</td>\n",
              "      <td>1.065715</td>\n",
              "      <td>0.671429</td>\n",
              "      <td>00:38</td>\n",
              "    </tr>\n",
              "    <tr>\n",
              "      <td>2</td>\n",
              "      <td>2.047236</td>\n",
              "      <td>0.875452</td>\n",
              "      <td>0.771429</td>\n",
              "      <td>00:37</td>\n",
              "    </tr>\n",
              "    <tr>\n",
              "      <td>3</td>\n",
              "      <td>2.002676</td>\n",
              "      <td>0.931007</td>\n",
              "      <td>0.714286</td>\n",
              "      <td>00:36</td>\n",
              "    </tr>\n",
              "    <tr>\n",
              "      <td>4</td>\n",
              "      <td>1.972137</td>\n",
              "      <td>0.827946</td>\n",
              "      <td>0.757143</td>\n",
              "      <td>00:36</td>\n",
              "    </tr>\n",
              "    <tr>\n",
              "      <td>5</td>\n",
              "      <td>1.945591</td>\n",
              "      <td>0.786983</td>\n",
              "      <td>0.814286</td>\n",
              "      <td>00:36</td>\n",
              "    </tr>\n",
              "    <tr>\n",
              "      <td>6</td>\n",
              "      <td>2.010497</td>\n",
              "      <td>0.779283</td>\n",
              "      <td>0.814286</td>\n",
              "      <td>00:36</td>\n",
              "    </tr>\n",
              "    <tr>\n",
              "      <td>7</td>\n",
              "      <td>2.071677</td>\n",
              "      <td>0.818450</td>\n",
              "      <td>0.757143</td>\n",
              "      <td>00:37</td>\n",
              "    </tr>\n",
              "    <tr>\n",
              "      <td>8</td>\n",
              "      <td>1.967330</td>\n",
              "      <td>0.758890</td>\n",
              "      <td>0.771429</td>\n",
              "      <td>00:36</td>\n",
              "    </tr>\n",
              "    <tr>\n",
              "      <td>9</td>\n",
              "      <td>1.972574</td>\n",
              "      <td>0.803359</td>\n",
              "      <td>0.771429</td>\n",
              "      <td>00:37</td>\n",
              "    </tr>\n",
              "  </tbody>\n",
              "</table>"
            ],
            "text/plain": [
              "<IPython.core.display.HTML object>"
            ]
          },
          "metadata": {
            "tags": []
          }
        }
      ]
    },
    {
      "cell_type": "code",
      "metadata": {
        "colab": {
          "base_uri": "https://localhost:8080/"
        },
        "id": "qKvMmrYNNnaw",
        "outputId": "ba2b9c38-3598-4e9f-c33c-4b6d8be2ecfd"
      },
      "source": [
        "learn_lm.save(\"ASM_AWD_LSTM_saved_80\", return_path=True)"
      ],
      "execution_count": 93,
      "outputs": [
        {
          "output_type": "execute_result",
          "data": {
            "text/plain": [
              "PosixPath('models/ASM_AWD_LSTM_saved_80.pth')"
            ]
          },
          "metadata": {
            "tags": []
          },
          "execution_count": 93
        }
      ]
    }
  ]
}